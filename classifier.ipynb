{
 "cells": [
  {
   "cell_type": "code",
   "execution_count": 29,
   "id": "6fd8e85b",
   "metadata": {},
   "outputs": [],
   "source": [
    "import json\n",
    "import numpy as np\n",
    "import sklearn\n",
    "from sklearn.model_selection import train_test_split\n",
    "from sklearn.feature_extraction.text import CountVectorizer\n",
    "\n",
    "from sklearn.linear_model import LogisticRegression\n",
    "from sklearn.tree import DecisionTreeClassifier\n",
    "from sklearn import svm\n",
    "from sklearn.naive_bayes import GaussianNB\n"
   ]
  },
  {
   "cell_type": "code",
   "execution_count": 5,
   "id": "3cb46f87",
   "metadata": {},
   "outputs": [],
   "source": [
    "class Review:\n",
    "    def __init__(self, text, score):\n",
    "        self.text = text\n",
    "        self.score = score\n",
    "        self.sentiment = self.get_sentiment()\n",
    "\n",
    "    def get_sentiment(self):\n",
    "        if self.score <= 2:\n",
    "            return 'NEGATIVE'\n",
    "        elif self.score == 3:\n",
    "            return 'NEUTRAL'\n",
    "        else:\n",
    "            return 'POSITIVE' # (Score of 4 or 5)"
   ]
  },
  {
   "cell_type": "markdown",
   "id": "ac0a004b",
   "metadata": {},
   "source": [
    "### Load the Dataset"
   ]
  },
  {
   "cell_type": "code",
   "execution_count": 19,
   "id": "56fdd1fd",
   "metadata": {},
   "outputs": [],
   "source": [
    "reviews = []\n",
    "\n",
    "dataset_path = 'data/books_small.json'\n",
    "with open (dataset_path) as f:\n",
    "    for line in f:\n",
    "        review = json.loads(line)\n",
    "\n",
    "        reviews.append(Review(review['reviewText'], review['overall']))\n",
    "        "
   ]
  },
  {
   "cell_type": "markdown",
   "id": "6c473e6d",
   "metadata": {},
   "source": [
    "#### <center>Split data into training and testing sets</center>"
   ]
  },
  {
   "cell_type": "code",
   "execution_count": 11,
   "id": "957110c2",
   "metadata": {},
   "outputs": [],
   "source": [
    "training, testing = train_test_split(reviews, test_size= 0.3, random_state = 42)\n",
    "\n",
    "train_x = [x.text for x in training]\n",
    "train_y = [x.sentiment for x in training]\n",
    "\n",
    "test_x = [x.text for x in testing]\n",
    "test_y = [x.sentiment for x in testing]\n"
   ]
  },
  {
   "cell_type": "markdown",
   "id": "44e7fe27",
   "metadata": {},
   "source": [
    "#### <center>Bag of words vectorization (convert text to numerical vectors)</center>"
   ]
  },
  {
   "cell_type": "code",
   "execution_count": 17,
   "id": "046622cd",
   "metadata": {},
   "outputs": [],
   "source": [
    "vectorizer = CountVectorizer()\n",
    "\n",
    "train_x_vectors = vectorizer.fit_transform(train_x)\n",
    "test_x_vectors = vectorizer.transform(test_x)\n"
   ]
  },
  {
   "cell_type": "markdown",
   "id": "4a5042cc",
   "metadata": {},
   "source": [
    "<h1><center>Supervised Classifiers</center></h1>"
   ]
  },
  {
   "cell_type": "markdown",
   "id": "2f3bb99c",
   "metadata": {},
   "source": [
    "##### Logistic Regression:"
   ]
  },
  {
   "cell_type": "code",
   "execution_count": 30,
   "id": "60229442",
   "metadata": {},
   "outputs": [
    {
     "data": {
      "text/plain": [
       "array(['POSITIVE'], dtype='<U8')"
      ]
     },
     "execution_count": 30,
     "metadata": {},
     "output_type": "execute_result"
    }
   ],
   "source": [
    "clf_log = LogisticRegression()\n",
    "clf_log.fit(train_x_vectors, train_y)\n",
    "\n",
    "clf_log.predict(test_x_vectors[0])"
   ]
  },
  {
   "cell_type": "markdown",
   "id": "85246f99",
   "metadata": {},
   "source": [
    "##### Decision Tree:"
   ]
  },
  {
   "cell_type": "code",
   "execution_count": 23,
   "id": "7340211f",
   "metadata": {},
   "outputs": [
    {
     "data": {
      "text/plain": [
       "array(['POSITIVE'], dtype='<U8')"
      ]
     },
     "execution_count": 23,
     "metadata": {},
     "output_type": "execute_result"
    }
   ],
   "source": [
    "clf_decision = DecisionTreeClassifier()\n",
    "clf_decision.fit(train_x_vectors, train_y)\n",
    "\n",
    "clf_decision.predict(test_x_vectors[0])"
   ]
  },
  {
   "cell_type": "markdown",
   "id": "b7daf662",
   "metadata": {},
   "source": [
    "##### Linear SVM:"
   ]
  },
  {
   "cell_type": "code",
   "execution_count": 32,
   "id": "0fa0e19e",
   "metadata": {},
   "outputs": [
    {
     "data": {
      "text/plain": [
       "array(['POSITIVE'], dtype='<U8')"
      ]
     },
     "execution_count": 32,
     "metadata": {},
     "output_type": "execute_result"
    }
   ],
   "source": [
    "clf_svm = svm.SVC(kernel = 'linear')\n",
    "clf_svm.fit(train_x_vectors, train_y)\n",
    "\n",
    "clf_svm.predict(test_x_vectors[0])"
   ]
  },
  {
   "cell_type": "markdown",
   "id": "87223e2f",
   "metadata": {},
   "source": [
    "##### Naive Bayes:"
   ]
  },
  {
   "cell_type": "code",
   "execution_count": 40,
   "id": "b864e6cd",
   "metadata": {},
   "outputs": [
    {
     "data": {
      "text/plain": [
       "array(['POSITIVE'], dtype='<U8')"
      ]
     },
     "execution_count": 40,
     "metadata": {},
     "output_type": "execute_result"
    }
   ],
   "source": [
    "# Naive Bayes needs dense vectors not sparse\n",
    "clf_gnb = GaussianNB()\n",
    "clf_gnb.fit(train_x_vectors.toarray(), train_y)\n",
    "\n",
    "clf_gnb.predict(test_x_vectors[0].toarray())"
   ]
  },
  {
   "cell_type": "code",
   "execution_count": null,
   "id": "fec5468a",
   "metadata": {},
   "outputs": [],
   "source": []
  }
 ],
 "metadata": {
  "kernelspec": {
   "display_name": ".venv",
   "language": "python",
   "name": "python3"
  },
  "language_info": {
   "codemirror_mode": {
    "name": "ipython",
    "version": 3
   },
   "file_extension": ".py",
   "mimetype": "text/x-python",
   "name": "python",
   "nbconvert_exporter": "python",
   "pygments_lexer": "ipython3",
   "version": "3.9.6"
  }
 },
 "nbformat": 4,
 "nbformat_minor": 5
}
